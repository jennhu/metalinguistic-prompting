{
 "cells": [
  {
   "cell_type": "code",
   "execution_count": 1,
   "id": "2328acc6-6653-4391-b0bd-e97cc69b905c",
   "metadata": {},
   "outputs": [
    {
     "name": "stderr",
     "output_type": "stream",
     "text": [
      "Matplotlib created a temporary config/cache directory at /tmp/matplotlib-a7gekuxh because the default path (/home/jovyan/.cache/matplotlib) is not a writable directory; it is highly recommended to set the MPLCONFIGDIR environment variable to a writable directory, in particular to speed up the import of Matplotlib and to better support multiprocessing.\n"
     ]
    }
   ],
   "source": [
    "import matplotlib.pyplot as plt\n",
    "from matplotlib.container import BarContainer\n",
    "import seaborn as sns\n",
    "import pandas as pd\n",
    "import numpy as np\n",
    "from scipy import stats\n",
    "from collections import defaultdict\n",
    "from os import listdir\n",
    "import json\n",
    "\n",
    "from utils.plotting import *\n",
    "\n",
    "sns.set(style=\"ticks\", font_scale=1.5, font=\"Liberation Sans\")"
   ]
  },
  {
   "cell_type": "markdown",
   "id": "b391b489-bb6b-420a-a4c5-c3ef39895507",
   "metadata": {},
   "source": [
    "# Read data"
   ]
  },
  {
   "cell_type": "code",
   "execution_count": 2,
   "id": "2ac0888b-42f8-4e0a-a39b-14fee9d54274",
   "metadata": {},
   "outputs": [],
   "source": [
    "def read_data(folder):\n",
    "    # Initialize list of dataframes that we will concatenate.\n",
    "    all_data = []\n",
    "    \n",
    "    # Get list of all JSON results files in the folder.\n",
    "    files_to_read = [f for f in listdir(folder) if f.endswith(\".json\")]\n",
    "\n",
    "    # Read each file into a single dataframe.\n",
    "    for f in files_to_read:\n",
    "        with open(folder + \"/\" + f, \"r\") as fp:\n",
    "            data = json.load(fp)\n",
    "        results = pd.DataFrame(data[\"results\"])\n",
    "        for k, v in data[\"meta\"].items():\n",
    "            if not isinstance(v, list):\n",
    "                results[k] = v\n",
    "        results[\"corpus\"] = f.split(\"_\")[0]\n",
    "        all_data.append(results)\n",
    "    df = pd.concat(all_data)\n",
    "    \n",
    "    # Rename variables for better-looking figures.\n",
    "    df[\"model\"] = df.model.apply(pretty_model)\n",
    "    df[\"eval_type\"] = df.eval_type.apply(pretty_evaltype)\n",
    "    return df\n",
    "\n",
    "# Read results for all tasks.\n",
    "RESULT_DIR = \"./results_zh\"\n",
    "TASKS = [\n",
    "    \"exp1_word-prediction\",\n",
    "    # \"exp2_word-comparison\",\n",
    "    \"exp3a_sentence-judgment\",\n",
    "    \"exp3b_sentence-comparison\"\n",
    "]\n",
    "RESULTS = {\n",
    "    task.split(\"_\")[0]: read_data(f\"{RESULT_DIR}/{task}\")\n",
    "    for task in TASKS\n",
    "}\n",
    "\n",
    "# Copy direct data from Experiment 3a to 3b.\n",
    "_3a = RESULTS[\"exp3a\"].copy()\n",
    "_3a_direct = _3a[_3a.eval_type==\"Direct\"]\n",
    "_3b = RESULTS[\"exp3b\"].copy()\n",
    "_3b = pd.concat([_3a_direct, _3b])\n",
    "RESULTS[\"exp3b\"] = _3b"
   ]
  },
  {
   "cell_type": "markdown",
   "id": "55a4b351-0e6a-4490-9157-bffc1a4c0eb9",
   "metadata": {},
   "source": [
    "# Figure 2: Task performance (also appendix Figures 4 & 5)"
   ]
  },
  {
   "cell_type": "code",
   "execution_count": 3,
   "id": "5adad4e3-bb36-451f-a7ed-5d3791385889",
   "metadata": {},
   "outputs": [],
   "source": [
    "def compute_accuracy_metric(df, task):\n",
    "    if task == \"exp1\":\n",
    "        pass\n",
    "    \n",
    "    elif task == \"exp2\":\n",
    "        df[\"model_prefers_good_continuation\"] = \\\n",
    "            (df[\"logprob_of_good_continuation\"] > df[\"logprob_of_bad_continuation\"])\n",
    "    \n",
    "    elif task == \"exp3b\":\n",
    "        def _success_criterion_sentence(row):\n",
    "            if row.eval_type == \"Direct\":\n",
    "                return (row.logprob_of_good_sentence > row.logprob_of_bad_sentence)\n",
    "            else:\n",
    "                return (row.logprob_of_good_continuation > row.logprob_of_bad_continuation)\n",
    "        df[\"model_prefers_good_sentence\"] = df.apply(_success_criterion_sentence, axis=1)\n",
    "    \n",
    "    else:\n",
    "        # Accuracy for \"direct\"\n",
    "        df[\"model_prefers_good_sentence\"] = df.apply(\n",
    "            lambda row: row.logprob_of_good_sentence > row.logprob_of_bad_sentence if row.eval_type == \"Direct\" else None,\n",
    "            axis=1\n",
    "        )\n",
    "        # True positive\n",
    "        df[\"model_prefers_yes_good\"] = df.apply(\n",
    "            lambda row: row.logprob_of_yes_good_sentence > row.logprob_of_no_good_sentence if row.eval_type != \"Direct\" else None,\n",
    "            axis=1\n",
    "        )\n",
    "        # True negative\n",
    "        df[\"model_prefers_no_bad\"] = df.apply(\n",
    "            lambda row: row.logprob_of_no_bad_sentence > row.logprob_of_yes_bad_sentence if row.eval_type != \"Direct\" else None,\n",
    "            axis=1\n",
    "        )\n",
    "        # False positive\n",
    "        df[\"model_prefers_yes_bad\"] = df.apply(\n",
    "            lambda row: row.logprob_of_yes_bad_sentence > row.logprob_of_no_bad_sentence if row.eval_type != \"Direct\" else None,\n",
    "            axis=1\n",
    "        )\n",
    "        # False negative\n",
    "        df[\"model_prefers_no_good\"] = df.apply(\n",
    "            lambda row: row.logprob_of_no_good_sentence > row.logprob_of_yes_good_sentence if row.eval_type != \"Direct\" else None,\n",
    "            axis=1\n",
    "        )\n",
    "    return df\n",
    "\n",
    "for task, df in RESULTS.items():\n",
    "    RESULTS[task] = compute_accuracy_metric(df, task)"
   ]
  },
  {
   "cell_type": "markdown",
   "id": "cbf9e658-accc-4ccd-be6c-4a2b61600b6f",
   "metadata": {},
   "source": [
    "## Experiment 1: Word prediction"
   ]
  },
  {
   "cell_type": "code",
   "execution_count": 34,
   "id": "8c0fb498-a9bb-496d-af28-4ee9da3816a1",
   "metadata": {},
   "outputs": [
    {
     "name": "stdout",
     "output_type": "stream",
     "text": [
      "model             eval_type          \n",
      "text-davinci-003  MetaQuestionComplex   -5.521090\n",
      "                  MetaQuestionSimple    -3.671287\n",
      "                  MetaInstruct          -3.553944\n",
      "                  Direct                -3.346442\n",
      "Name: logprob_of_gold_continuation, dtype: float64\n",
      "Rendered figure to zh_exp1_task_performance.pdf\n"
     ]
    },
    {
     "data": {
      "image/png": "[encoded data removed]",
      "text/plain": [
       "<Figure size 216x216 with 1 Axes>"
      ]
     },
     "metadata": {},
     "output_type": "display_data"
    }
   ],
   "source": [
    "_df = RESULTS[\"exp1\"]\n",
    "metric = \"logprob_of_gold_continuation\"\n",
    "metric_label = \"Logprob of final word\"\n",
    "kwargs = dict(\n",
    "    x=\"model\",\n",
    "    hue=\"eval_type\",\n",
    "    xlabel=\"\",\n",
    "    hue_order=[e for e in EVAL_TYPES if e in _df.eval_type.unique()],\n",
    "    palette=EVAL_TYPE_PAL,\n",
    "    legend_pos=\"outside\",\n",
    "    verbose=True\n",
    ")\n",
    "\n",
    "########################################\n",
    "# Average over datasets\n",
    "########################################\n",
    "\n",
    "ax = plot_metric(_df[_df.model==\"text-davinci-003\"], metric, ylabel=metric_label, **kwargs)\n",
    "ax.get_legend().remove()\n",
    "plt.gcf().set_size_inches(3,3)\n",
    "labels = ax.get_xticklabels()\n",
    "ax.set_xticklabels(labels, rotation=0, ha=\"center\")\n",
    "render(\"zh_exp1_task_performance.pdf\")\n",
    "\n",
    "plt.show()"
   ]
  },
  {
   "cell_type": "markdown",
   "id": "3a3f4408-4777-49d3-ac17-3561f5026b26",
   "metadata": {},
   "source": [
    "## Experiment 3b: Sentence comparison\n",
    "\n",
    "NOTE: It's simpler to generate the plots for Experiment 3b than the plots for Experiment 3a, so we'll do it first."
   ]
  },
  {
   "cell_type": "code",
   "execution_count": 6,
   "id": "0bc9745e-164b-45d4-867c-1dcca5c196b0",
   "metadata": {},
   "outputs": [
    {
     "data": {
      "text/plain": [
       "model\n",
       "text-davinci-003    0.611215\n",
       "Name: model_prefers_good_sentence, dtype: float64"
      ]
     },
     "execution_count": 6,
     "metadata": {},
     "output_type": "execute_result"
    }
   ],
   "source": [
    "_df = RESULTS[\"exp3b\"]\n",
    "metric = \"model_prefers_good_sentence\"\n",
    "_df[_df.eval_type==\"Direct\"].groupby(\"model\")[metric].mean()\n",
    "# print(_df[_df.eval_type==\"Direct\"].logprob_of_good_sentence.mean())\n",
    "# print(_df[_df.eval_type==\"Direct\"].logprob_of_bad_sentence.mean())\n",
    "# _df[_df.eval_type==\"Direct\"].sort_values(by=\"logprob_of_bad_sentence\")"
   ]
  },
  {
   "cell_type": "code",
   "execution_count": 33,
   "id": "f6dabb44-5e78-49ea-b4ba-b366443116c9",
   "metadata": {},
   "outputs": [
    {
     "name": "stdout",
     "output_type": "stream",
     "text": [
      "model             eval_type          \n",
      "text-davinci-003  Direct                 0.611215\n",
      "                  MetaQuestionComplex    0.777570\n",
      "                  MetaQuestionSimple     0.787850\n",
      "                  MetaInstruct           0.823364\n",
      "Name: model_prefers_good_sentence, dtype: float64\n",
      "Rendered figure to zh_exp3b_task_performance.pdf\n"
     ]
    },
    {
     "data": {
      "image/png": "[encoded data removed]",
      "text/plain": [
       "<Figure size 216x216 with 1 Axes>"
      ]
     },
     "metadata": {},
     "output_type": "display_data"
    }
   ],
   "source": [
    "_df = RESULTS[\"exp3b\"]\n",
    "metric = \"model_prefers_good_sentence\"\n",
    "metric_label = \"Accuracy\"\n",
    "kwargs = dict(\n",
    "    x=\"model\",\n",
    "    hue=\"eval_type\",\n",
    "    xlabel=\"\",\n",
    "    hue_order=[e for e in EVAL_TYPES if e in _df.eval_type.unique()],\n",
    "    chance=0.5,\n",
    "    ylim=(0,1),\n",
    "    legend_pos=\"outside\",\n",
    "    verbose=True\n",
    ")\n",
    "\n",
    "########################################\n",
    "# Average over datasets\n",
    "########################################\n",
    "\n",
    "ax = plot_metric(_df, metric, ylabel=metric_label, **kwargs)\n",
    "ax.get_legend().remove()\n",
    "plt.gcf().set_size_inches(3,3)\n",
    "labels = ax.get_xticklabels()\n",
    "ax.set_xticklabels(labels, rotation=0, ha=\"center\")\n",
    "render(\"zh_exp3b_task_performance.pdf\")\n",
    "\n",
    "plt.show()"
   ]
  },
  {
   "cell_type": "markdown",
   "id": "7ddd339f-4ac3-4884-b7d2-c57a6ab8f162",
   "metadata": {},
   "source": [
    "## Experiment 3a: Sentence judgment"
   ]
  },
  {
   "cell_type": "code",
   "execution_count": 9,
   "id": "4201fc4b-9605-4386-b2ef-b63eb6b100a9",
   "metadata": {},
   "outputs": [],
   "source": [
    "# Balanced accuracy: (TPR+TNR)/2\n",
    "def balanced_accuracy(rows):\n",
    "    tp = rows.model_prefers_yes_good.mean()\n",
    "    tn = rows.model_prefers_no_bad.mean()\n",
    "    return np.mean([tp, tn])\n",
    "\n",
    "# Helper function for getting bootstrapped confidence intervals\n",
    "# NOTE: this function was adapted from the scipy implementation\n",
    "def bootstrap_ci(rows, fn, n_resamples=1000, confidence_level=0.95):\n",
    "    stat_dist = []\n",
    "    \n",
    "    # Resample the data: random sample of the original sample (with replacement) of the same size as the original sample.\n",
    "    for _ in range(n_resamples):\n",
    "        sample = rows.sample(frac=1, replace=True)\n",
    "\n",
    "    # Compute the bootstrap distribution of the statistic: for each set of resamples, compute the test statistic.\n",
    "        test_stat = balanced_accuracy(sample)\n",
    "        stat_dist.append(test_stat)\n",
    "\n",
    "    # Determine the confidence interval.\n",
    "\n",
    "    # Calculate percentile interval\n",
    "    alpha = (1 - confidence_level)/2\n",
    "    interval = alpha, 1-alpha\n",
    "\n",
    "    def percentile_fun(a, q):\n",
    "        return np.percentile(a=a, q=q, axis=-1)\n",
    "\n",
    "    # Calculate confidence interval of statistic\n",
    "    ci_l = percentile_fun(stat_dist, interval[0]*100)\n",
    "    ci_u = percentile_fun(stat_dist, interval[1]*100)\n",
    "    return ci_l, ci_u\n",
    "\n",
    "# Wrapper function for getting CIs\n",
    "def balanced_accuracy_ci(df):\n",
    "    res = []\n",
    "    for model in df.model.unique():\n",
    "        for eval_type in META_EVAL_TYPES:\n",
    "            # Get relevant rows.\n",
    "            rows = df[(df.model==model)&(df.eval_type==eval_type)]\n",
    "\n",
    "            # Bootstrap 95% CI.\n",
    "            print(f\"Bootstrapping CI for {model}, {eval_type}...\")\n",
    "            ci_l, ci_u = bootstrap_ci(rows, balanced_accuracy)\n",
    "\n",
    "            # Compute accuracy.\n",
    "            res.append(dict(\n",
    "                model=model,\n",
    "                eval_type=eval_type,\n",
    "                accuracy=balanced_accuracy(rows),\n",
    "                ci_low=ci_l,\n",
    "                ci_high=ci_u\n",
    "            ))\n",
    "    acc = pd.DataFrame(res)\n",
    "            \n",
    "    return acc\n",
    "\n",
    "# Compute accuracy and CIs\n",
    "def get_accuracy_data_3a(df):\n",
    "    # Get accuracy and CIs for metalinguistic methods.\n",
    "    acc = balanced_accuracy_ci(df)\n",
    "    \n",
    "    # Compute accuracy for direct condition.\n",
    "    direct_acc = []\n",
    "    for corpus in df.corpus.unique():\n",
    "        for model in acc.model.unique():\n",
    "            rows = df[(df.model==model)&(df.eval_type==\"Direct\")&(df.corpus==corpus)]\n",
    "            for item_id in rows.item_id.unique():\n",
    "                direct_acc.append(dict(\n",
    "                    model=model,\n",
    "                    eval_type=\"Direct\",\n",
    "                    corpus=corpus,\n",
    "                    accuracy=int(rows[rows.item_id==item_id].squeeze().model_prefers_good_sentence)\n",
    "                ))\n",
    "    direct_acc = pd.DataFrame(direct_acc)\n",
    "    full_acc = pd.concat([direct_acc, acc])\n",
    "    return full_acc"
   ]
  },
  {
   "cell_type": "code",
   "execution_count": 10,
   "id": "3e194030-d876-4b38-b5b5-ffd9d47b33ee",
   "metadata": {},
   "outputs": [
    {
     "name": "stdout",
     "output_type": "stream",
     "text": [
      "Bootstrapping CI for text-davinci-003, MetaQuestionSimple...\n",
      "Bootstrapping CI for text-davinci-003, MetaInstruct...\n",
      "Bootstrapping CI for text-davinci-003, MetaQuestionComplex...\n",
      "Bootstrapping CI for text-davinci-003, MetaQuestionComplexOptionFirst...\n",
      "Bootstrapping CI for text-davinci-003, MetaInstructKeywords...\n"
     ]
    }
   ],
   "source": [
    "_df = RESULTS[\"exp3a\"]\n",
    "_acc = get_accuracy_data_3a(_df)"
   ]
  },
  {
   "cell_type": "code",
   "execution_count": 32,
   "id": "4c92d863-8656-4616-a341-38400e181b6c",
   "metadata": {},
   "outputs": [
    {
     "name": "stdout",
     "output_type": "stream",
     "text": [
      "Direct\n",
      "MetaQuestionSimple\n",
      "MetaInstruct\n",
      "MetaQuestionComplex\n",
      "Rendered figure to zh_exp3a_task_performance.pdf\n"
     ]
    },
    {
     "data": {
      "image/png": "[encoded data removed]",
      "text/plain": [
       "<Figure size 216x216 with 1 Axes>"
      ]
     },
     "metadata": {},
     "output_type": "display_data"
    }
   ],
   "source": [
    "metric = \"accuracy\"\n",
    "metric_label = \"Accuracy\"\n",
    "kwargs = dict(\n",
    "    x=\"model\",\n",
    "    # order=[e for e in EVAL_TYPES if e in _df.eval_type.unique()],\n",
    "    hue=\"eval_type\",\n",
    "    xlabel=\"\",\n",
    "    hue_order=[e for e in EVAL_TYPES if e in _df.eval_type.unique()],\n",
    "    chance=0.5,\n",
    "    ylim=(0,1),\n",
    "    legend_pos=\"outside\"\n",
    ")\n",
    "\n",
    "def add_metalinguistic_errorbars(ax, acc_df):\n",
    "    eval_types = [e for e in EVAL_TYPES if e in acc_df.eval_type.unique()]\n",
    "    model_order = [m for m in GLOBAL_MODEL_ORDER if m in acc_df.model.unique()]\n",
    "    # Add custom error bars for metalinguistic conditions\n",
    "    for eval_type_idx, container in enumerate(ax.containers):\n",
    "        if isinstance(container, BarContainer):\n",
    "            eval_type = eval_types[eval_type_idx]\n",
    "            print(eval_type)\n",
    "\n",
    "            # We don't need to manually add error bars for Direct method.\n",
    "            if eval_type != \"Direct\":\n",
    "                for model_idx, bar in enumerate(container.get_children()):\n",
    "                    model = model_order[model_idx]\n",
    "                    row = acc_df[(acc_df.eval_type==eval_type)&(acc_df.model==model)].squeeze()\n",
    "                    ci_l = row.ci_low\n",
    "                    ci_u = row.ci_high\n",
    "                    ax.errorbar(\n",
    "                        bar.get_x()+bar.get_width()/2, \n",
    "                        bar.get_height(), \n",
    "                        yerr=(ci_u - bar.get_height()), \n",
    "                        capsize=10, elinewidth=1,\n",
    "                        color=\"k\",\n",
    "                        alpha=0.75\n",
    "                    )\n",
    "    # manually adjust x-axis limits, which get shifted by errorbar plotting\n",
    "    # ax.set_xlim(-0.5, 5.5)\n",
    "    return ax\n",
    "\n",
    "########################################\n",
    "# Average over datasets\n",
    "########################################\n",
    "\n",
    "ax = plot_metric(_acc, metric, ylabel=metric_label, **kwargs)\n",
    "ax.get_legend().remove()\n",
    "ax = add_metalinguistic_errorbars(ax, _acc)\n",
    "labels = ax.get_xticklabels()\n",
    "ax.set_xticklabels(labels, rotation=0, ha=\"center\")\n",
    "plt.gcf().set_size_inches(3,3)\n",
    "render(\"zh_exp3a_task_performance.pdf\")\n",
    "plt.show()"
   ]
  },
  {
   "cell_type": "code",
   "execution_count": null,
   "id": "248c1bc9-70c0-4a9f-98c7-0d4967457f44",
   "metadata": {},
   "outputs": [],
   "source": []
  }
 ],
 "metadata": {
  "kernelspec": {
   "display_name": "Python 3 (ipykernel)",
   "language": "python",
   "name": "python3"
  },
  "language_info": {
   "codemirror_mode": {
    "name": "ipython",
    "version": 3
   },
   "file_extension": ".py",
   "mimetype": "text/x-python",
   "name": "python",
   "nbconvert_exporter": "python",
   "pygments_lexer": "ipython3",
   "version": "3.9.10"
  }
 },
 "nbformat": 4,
 "nbformat_minor": 5
}
